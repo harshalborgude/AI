{
 "cells": [
  {
   "cell_type": "code",
   "execution_count": 173,
   "id": "b0cf83ac-4280-4c2c-a8f7-a8643bc33c34",
   "metadata": {},
   "outputs": [],
   "source": [
    "# 30th jan lect [Data Types , Strings , List]"
   ]
  },
  {
   "cell_type": "code",
   "execution_count": 2,
   "id": "d1242b81-0fb1-4931-9ec2-8d83f800ea92",
   "metadata": {},
   "outputs": [
    {
     "data": {
      "text/plain": [
       "2"
      ]
     },
     "execution_count": 2,
     "metadata": {},
     "output_type": "execute_result"
    }
   ],
   "source": [
    "1+1"
   ]
  },
  {
   "cell_type": "code",
   "execution_count": 3,
   "id": "dcc6f68b-dd2c-4b37-80ff-e2f2b2a35f1b",
   "metadata": {},
   "outputs": [],
   "source": [
    "a=10"
   ]
  },
  {
   "cell_type": "code",
   "execution_count": 4,
   "id": "0afb286e-84ac-46ac-93c7-fd4628a90db9",
   "metadata": {},
   "outputs": [
    {
     "data": {
      "text/plain": [
       "int"
      ]
     },
     "execution_count": 4,
     "metadata": {},
     "output_type": "execute_result"
    }
   ],
   "source": [
    "type(a)"
   ]
  },
  {
   "cell_type": "code",
   "execution_count": 5,
   "id": "40e95f02-9bf7-499a-9a81-63151fc71846",
   "metadata": {},
   "outputs": [],
   "source": [
    "b=2.09"
   ]
  },
  {
   "cell_type": "code",
   "execution_count": 6,
   "id": "112e88f2-508f-453b-b522-f01bd3342a1b",
   "metadata": {},
   "outputs": [
    {
     "data": {
      "text/plain": [
       "float"
      ]
     },
     "execution_count": 6,
     "metadata": {},
     "output_type": "execute_result"
    }
   ],
   "source": [
    "type(b)"
   ]
  },
  {
   "cell_type": "code",
   "execution_count": 7,
   "id": "da7c333a-277d-4582-abd0-e0b2c9e7e5a9",
   "metadata": {},
   "outputs": [],
   "source": [
    "d=\"Harshal\""
   ]
  },
  {
   "cell_type": "code",
   "execution_count": 8,
   "id": "e50ff031-cf79-4a74-910d-c0d0348757e3",
   "metadata": {},
   "outputs": [
    {
     "data": {
      "text/plain": [
       "str"
      ]
     },
     "execution_count": 8,
     "metadata": {},
     "output_type": "execute_result"
    }
   ],
   "source": [
    "type(d)"
   ]
  },
  {
   "cell_type": "code",
   "execution_count": 9,
   "id": "961790f0-45a9-449d-a80e-7f26f1ddbd85",
   "metadata": {},
   "outputs": [],
   "source": [
    "e='Harshal'"
   ]
  },
  {
   "cell_type": "code",
   "execution_count": 10,
   "id": "55704c3c-818e-4339-ab53-e3974a708b16",
   "metadata": {},
   "outputs": [
    {
     "data": {
      "text/plain": [
       "str"
      ]
     },
     "execution_count": 10,
     "metadata": {},
     "output_type": "execute_result"
    }
   ],
   "source": [
    "type(e)"
   ]
  },
  {
   "cell_type": "code",
   "execution_count": 11,
   "id": "35977019-3897-4ab0-896e-cc78599ea287",
   "metadata": {},
   "outputs": [],
   "source": [
    "f='H'"
   ]
  },
  {
   "cell_type": "code",
   "execution_count": 12,
   "id": "5a378353-031d-4779-9f5c-1db8a375854d",
   "metadata": {},
   "outputs": [
    {
     "data": {
      "text/plain": [
       "str"
      ]
     },
     "execution_count": 12,
     "metadata": {},
     "output_type": "execute_result"
    }
   ],
   "source": [
    "type(f)"
   ]
  },
  {
   "cell_type": "code",
   "execution_count": 13,
   "id": "52d11ba7-8807-454a-9348-9f03a4a5de11",
   "metadata": {},
   "outputs": [],
   "source": [
    "g=True"
   ]
  },
  {
   "cell_type": "code",
   "execution_count": 14,
   "id": "88268917-b594-4883-9468-3852446a909c",
   "metadata": {},
   "outputs": [
    {
     "data": {
      "text/plain": [
       "bool"
      ]
     },
     "execution_count": 14,
     "metadata": {},
     "output_type": "execute_result"
    }
   ],
   "source": [
    "type(g)"
   ]
  },
  {
   "cell_type": "code",
   "execution_count": 15,
   "id": "6d64269e-6bc7-412c-984d-87a6f5c1d983",
   "metadata": {},
   "outputs": [],
   "source": [
    "h=False"
   ]
  },
  {
   "cell_type": "code",
   "execution_count": 16,
   "id": "e7d02008-d0a3-4a60-a6df-52bdc678f225",
   "metadata": {},
   "outputs": [
    {
     "data": {
      "text/plain": [
       "bool"
      ]
     },
     "execution_count": 16,
     "metadata": {},
     "output_type": "execute_result"
    }
   ],
   "source": [
    "type(h)"
   ]
  },
  {
   "cell_type": "code",
   "execution_count": 17,
   "id": "8a87651d-ff82-469f-a52d-0fc6679de824",
   "metadata": {},
   "outputs": [
    {
     "data": {
      "text/plain": [
       "1"
      ]
     },
     "execution_count": 17,
     "metadata": {},
     "output_type": "execute_result"
    }
   ],
   "source": [
    "g+h"
   ]
  },
  {
   "cell_type": "code",
   "execution_count": 18,
   "id": "f5717a51-ecef-4956-b95a-d01247308d6e",
   "metadata": {},
   "outputs": [
    {
     "data": {
      "text/plain": [
       "1"
      ]
     },
     "execution_count": 18,
     "metadata": {},
     "output_type": "execute_result"
    }
   ],
   "source": [
    "True * True "
   ]
  },
  {
   "cell_type": "code",
   "execution_count": 19,
   "id": "e6c4daaa-caf6-4aab-a4b1-95995b2c704b",
   "metadata": {},
   "outputs": [
    {
     "data": {
      "text/plain": [
       "2"
      ]
     },
     "execution_count": 19,
     "metadata": {},
     "output_type": "execute_result"
    }
   ],
   "source": [
    "True + True"
   ]
  },
  {
   "cell_type": "code",
   "execution_count": 20,
   "id": "c41c620a-e08f-47b7-ab39-80c084b8e252",
   "metadata": {},
   "outputs": [
    {
     "ename": "ZeroDivisionError",
     "evalue": "division by zero",
     "output_type": "error",
     "traceback": [
      "\u001b[0;31m---------------------------------------------------------------------------\u001b[0m",
      "\u001b[0;31mZeroDivisionError\u001b[0m                         Traceback (most recent call last)",
      "Cell \u001b[0;32mIn[20], line 1\u001b[0m\n\u001b[0;32m----> 1\u001b[0m \u001b[38;5;28;43;01mTrue\u001b[39;49;00m\u001b[43m \u001b[49m\u001b[38;5;241;43m/\u001b[39;49m\u001b[43m \u001b[49m\u001b[38;5;28;43;01mFalse\u001b[39;49;00m\n",
      "\u001b[0;31mZeroDivisionError\u001b[0m: division by zero"
     ]
    }
   ],
   "source": [
    "True / False"
   ]
  },
  {
   "cell_type": "code",
   "execution_count": null,
   "id": "ac7952db-7905-4790-9ef3-899a14040ded",
   "metadata": {},
   "outputs": [],
   "source": [
    "compNum = 4+8j"
   ]
  },
  {
   "cell_type": "code",
   "execution_count": null,
   "id": "1472cf2c-8597-4638-ab5f-1dd252caf42e",
   "metadata": {},
   "outputs": [],
   "source": [
    "type(compNum)"
   ]
  },
  {
   "cell_type": "code",
   "execution_count": null,
   "id": "c0f526a7-c019-413a-b9ac-01ca107a1d88",
   "metadata": {},
   "outputs": [],
   "source": [
    "compNum.real"
   ]
  },
  {
   "cell_type": "code",
   "execution_count": null,
   "id": "d795e32c-3095-43b3-b464-d344012bed7d",
   "metadata": {},
   "outputs": [],
   "source": [
    "compNum.imag"
   ]
  },
  {
   "cell_type": "code",
   "execution_count": null,
   "id": "2dc425e9-9f86-44ef-b795-de41dcac9ae0",
   "metadata": {},
   "outputs": [],
   "source": [
    "print(\"my name is Harshal\")"
   ]
  },
  {
   "cell_type": "code",
   "execution_count": null,
   "id": "8ce84722-276f-4e6f-b751-c3f82414fd52",
   "metadata": {},
   "outputs": [],
   "source": [
    "print(compNum)"
   ]
  },
  {
   "cell_type": "code",
   "execution_count": null,
   "id": "4f8fe1dd-ab42-4886-9491-355e6000d303",
   "metadata": {},
   "outputs": [],
   "source": [
    "s = \"pwSkills\""
   ]
  },
  {
   "cell_type": "code",
   "execution_count": null,
   "id": "3b312faf-3737-4911-8e7c-e94f68a55dee",
   "metadata": {},
   "outputs": [],
   "source": [
    "type(s)"
   ]
  },
  {
   "cell_type": "code",
   "execution_count": null,
   "id": "51234285-02f8-40a5-bce2-e216a103592c",
   "metadata": {},
   "outputs": [],
   "source": [
    "s[0]"
   ]
  },
  {
   "cell_type": "code",
   "execution_count": null,
   "id": "95bc602b-ca6e-42b7-b2ad-ecfa39d02a50",
   "metadata": {},
   "outputs": [],
   "source": [
    "s[2]"
   ]
  },
  {
   "cell_type": "code",
   "execution_count": null,
   "id": "c426a9ca-93f3-4690-ac50-70b82c670d12",
   "metadata": {},
   "outputs": [],
   "source": [
    "s[-1]"
   ]
  },
  {
   "cell_type": "code",
   "execution_count": null,
   "id": "69781cea-a8d3-4020-ba8c-cc1679c00e6e",
   "metadata": {},
   "outputs": [],
   "source": [
    "s[-1]"
   ]
  },
  {
   "cell_type": "code",
   "execution_count": null,
   "id": "b5cf5e50-4bc7-461d-b600-4efc3be954f6",
   "metadata": {},
   "outputs": [],
   "source": [
    "s[-8]"
   ]
  },
  {
   "cell_type": "code",
   "execution_count": null,
   "id": "bdfff06b-e114-4bd0-9503-eca17fa2d3e5",
   "metadata": {},
   "outputs": [],
   "source": [
    "s[0:3]"
   ]
  },
  {
   "cell_type": "code",
   "execution_count": null,
   "id": "26b79dbe-7eb6-47d5-9585-ce643a0cfc17",
   "metadata": {},
   "outputs": [],
   "source": [
    "i=0;j=3"
   ]
  },
  {
   "cell_type": "code",
   "execution_count": null,
   "id": "e3efb75a-d1ca-4ef7-9509-515bdb81d8e3",
   "metadata": {},
   "outputs": [],
   "source": [
    "s[i:j]"
   ]
  },
  {
   "cell_type": "code",
   "execution_count": null,
   "id": "03a66b16-2658-4585-b1da-9eb1f6b91bc7",
   "metadata": {},
   "outputs": [],
   "source": [
    "# var[startIndex:EndIndex:jump]\n",
    "s[0:8:2]"
   ]
  },
  {
   "cell_type": "code",
   "execution_count": null,
   "id": "106e53c7-f069-4bbb-8dc6-7b2eb91c69a0",
   "metadata": {},
   "outputs": [],
   "source": [
    "s[::2]\n",
    "# By default will consider start and end index"
   ]
  },
  {
   "cell_type": "code",
   "execution_count": null,
   "id": "20af4021-ed7b-4abf-9566-cb2e268bfd6c",
   "metadata": {},
   "outputs": [],
   "source": [
    "# Print In Reverse Direction \n",
    "s[::-1]"
   ]
  },
  {
   "cell_type": "code",
   "execution_count": null,
   "id": "0f3ddefb-67cc-4ff5-a6d6-1f64a7170d12",
   "metadata": {},
   "outputs": [],
   "source": [
    "s[2:7:-1]\n",
    "# from 2 to 7 can't go by adding -1, so because of conflict printing nothing"
   ]
  },
  {
   "cell_type": "code",
   "execution_count": null,
   "id": "1c7809c5-5c34-4735-ad27-398e3a0bc678",
   "metadata": {},
   "outputs": [],
   "source": [
    "s[8:0]\n",
    "#By default jump value is +1 so this will print nothing"
   ]
  },
  {
   "cell_type": "code",
   "execution_count": null,
   "id": "0da3a729-606f-40a3-baa6-eec7e03a9f2e",
   "metadata": {},
   "outputs": [],
   "source": [
    "s[8:0:-1]"
   ]
  },
  {
   "cell_type": "code",
   "execution_count": null,
   "id": "d06c6dbe-860e-4a46-bd67-79eb2b94b432",
   "metadata": {},
   "outputs": [],
   "source": [
    "s[::-1]"
   ]
  },
  {
   "cell_type": "code",
   "execution_count": null,
   "id": "2b773fbb-891d-4e9c-bcec-2bf15c4d6da5",
   "metadata": {},
   "outputs": [],
   "source": [
    "s[10]"
   ]
  },
  {
   "cell_type": "code",
   "execution_count": null,
   "id": "3cc2fe7a-b0bc-421a-8484-573d6a848a7f",
   "metadata": {},
   "outputs": [],
   "source": [
    "s[:-10]"
   ]
  },
  {
   "cell_type": "code",
   "execution_count": null,
   "id": "735cff7e-262f-4deb-8c4e-a6d048d4e454",
   "metadata": {},
   "outputs": [],
   "source": [
    "s[0:1000:1]"
   ]
  },
  {
   "cell_type": "code",
   "execution_count": null,
   "id": "313c701b-a499-4f89-a9cc-e22bc65332d9",
   "metadata": {},
   "outputs": [],
   "source": [
    "s[:-1000:-1]"
   ]
  },
  {
   "cell_type": "code",
   "execution_count": null,
   "id": "ea37f0ae-9e9e-4cdb-a3ad-a410039ad0d2",
   "metadata": {},
   "outputs": [],
   "source": [
    "s1 = \"This is my string class\""
   ]
  },
  {
   "cell_type": "code",
   "execution_count": null,
   "id": "3bb88d2d-53b6-4391-a0b2-7e8231d56dcc",
   "metadata": {},
   "outputs": [],
   "source": [
    "len(s1)"
   ]
  },
  {
   "cell_type": "code",
   "execution_count": null,
   "id": "8d144d75-3d66-4a2a-a816-d89e0f31a4cb",
   "metadata": {},
   "outputs": [],
   "source": [
    "s1.find('s')"
   ]
  },
  {
   "cell_type": "code",
   "execution_count": null,
   "id": "095a63a3-39c6-4869-86b2-5db64c8e0f03",
   "metadata": {},
   "outputs": [],
   "source": [
    "s1.find(\"i\")"
   ]
  },
  {
   "cell_type": "code",
   "execution_count": null,
   "id": "c65432cb-7dea-4a0c-a1f1-33a7b054a423",
   "metadata": {},
   "outputs": [],
   "source": [
    "s1.find(\"my\")\n",
    "# can get index of char or String"
   ]
  },
  {
   "cell_type": "code",
   "execution_count": null,
   "id": "416ce6b1-2be7-4540-8d78-35820cdcabae",
   "metadata": {},
   "outputs": [],
   "source": [
    "s1.find(\"My\")\n",
    "# will return -1 if string is not there , its case sensitive"
   ]
  },
  {
   "cell_type": "code",
   "execution_count": null,
   "id": "7af5fa27-b167-4be6-bbb8-80c963609faa",
   "metadata": {},
   "outputs": [],
   "source": [
    "s1"
   ]
  },
  {
   "cell_type": "code",
   "execution_count": null,
   "id": "8350531d-5c3b-4d91-8249-d896ab14599e",
   "metadata": {},
   "outputs": [],
   "source": [
    "s1.count(\"i\")\n",
    "# Returns the count of char or string"
   ]
  },
  {
   "cell_type": "code",
   "execution_count": null,
   "id": "ee078d4a-e240-4ee6-bb46-e3c1c87d4500",
   "metadata": {},
   "outputs": [],
   "source": [
    "s1.upper()"
   ]
  },
  {
   "cell_type": "code",
   "execution_count": null,
   "id": "404980a5-3b46-494c-b3bf-bd1758c956c1",
   "metadata": {},
   "outputs": [],
   "source": [
    "s2=s1.upper()"
   ]
  },
  {
   "cell_type": "code",
   "execution_count": null,
   "id": "d7fbf1fd-059c-4404-bed2-d0df4f82b310",
   "metadata": {},
   "outputs": [],
   "source": [
    "s2"
   ]
  },
  {
   "cell_type": "code",
   "execution_count": null,
   "id": "5b52cdd3-969f-405e-a308-6afd0d7e9f00",
   "metadata": {},
   "outputs": [],
   "source": [
    "s2.lower()"
   ]
  },
  {
   "cell_type": "code",
   "execution_count": null,
   "id": "af204bd8-c5af-4784-97f6-8f35c75fb3e8",
   "metadata": {},
   "outputs": [],
   "source": [
    "s2.title()\n",
    "# will capitalize initial letters of each word"
   ]
  },
  {
   "cell_type": "code",
   "execution_count": null,
   "id": "af200c34-e8c2-4371-9fd4-bd819f6e6823",
   "metadata": {},
   "outputs": [],
   "source": [
    "s2.capitalize()\n",
    "# will capitalize initial letter of string"
   ]
  },
  {
   "cell_type": "code",
   "execution_count": null,
   "id": "c6d83e15-0abe-4017-8e92-50082dd73e56",
   "metadata": {},
   "outputs": [],
   "source": [
    "s2+1"
   ]
  },
  {
   "cell_type": "code",
   "execution_count": null,
   "id": "d33bd45e-11ae-4ecf-b6f5-eeb8ce387608",
   "metadata": {},
   "outputs": [],
   "source": [
    "s2 + \" Harshal\""
   ]
  },
  {
   "cell_type": "code",
   "execution_count": null,
   "id": "cd7e0b5a-02e3-4783-a109-7cb849684410",
   "metadata": {},
   "outputs": [],
   "source": [
    "s2 + \" \" +str(1)\n",
    "# str() method will parse into string"
   ]
  },
  {
   "cell_type": "code",
   "execution_count": null,
   "id": "05ce0c18-e097-4498-b5eb-16691c934ad3",
   "metadata": {},
   "outputs": [],
   "source": [
    "s2*3\n",
    "# will write it 3 times"
   ]
  },
  {
   "cell_type": "code",
   "execution_count": null,
   "id": "72452bbf-c35f-45de-89a2-02dd9d7911fb",
   "metadata": {},
   "outputs": [],
   "source": [
    "'don't do copy and paste in this class'"
   ]
  },
  {
   "cell_type": "code",
   "execution_count": null,
   "id": "1808d3bd-ac8d-44bc-b0c0-ff161ad10355",
   "metadata": {},
   "outputs": [],
   "source": [
    "\"don't do copy and paste in this class\""
   ]
  },
  {
   "cell_type": "code",
   "execution_count": null,
   "id": "9e08e70d-7321-453e-bbfe-cd8c0b4f236a",
   "metadata": {},
   "outputs": [],
   "source": [
    "\"\"\"Multiline comment can be written \n",
    "in triple quotes like this\"\"\""
   ]
  }
 ],
 "metadata": {
  "kernelspec": {
   "display_name": "Python 3 (ipykernel)",
   "language": "python",
   "name": "python3"
  },
  "language_info": {
   "codemirror_mode": {
    "name": "ipython",
    "version": 3
   },
   "file_extension": ".py",
   "mimetype": "text/x-python",
   "name": "python",
   "nbconvert_exporter": "python",
   "pygments_lexer": "ipython3",
   "version": "3.10.8"
  },
  "toc-autonumbering": false
 },
 "nbformat": 4,
 "nbformat_minor": 5
}
