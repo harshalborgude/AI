{
 "cells": [
  {
   "cell_type": "code",
   "execution_count": 1,
   "id": "0d444112-d40a-430d-8be1-94e8dcf242e8",
   "metadata": {},
   "outputs": [],
   "source": [
    "# 1 Feb [Control Statements]"
   ]
  },
  {
   "cell_type": "code",
   "execution_count": 13,
   "id": "1bd53471-bb85-4ff4-80b3-1712bf8ace0f",
   "metadata": {},
   "outputs": [],
   "source": [
    "marks = 78"
   ]
  },
  {
   "cell_type": "code",
   "execution_count": 18,
   "id": "23a5486f-6555-4db1-8807-0c7e095ab64d",
   "metadata": {},
   "outputs": [
    {
     "name": "stdin",
     "output_type": "stream",
     "text": [
      "enter your makrs : 33\n"
     ]
    },
    {
     "name": "stdout",
     "output_type": "stream",
     "text": [
      "you have marks les than 40 percent!\n"
     ]
    }
   ],
   "source": [
    "marks = int(input(\"enter your makrs :\"))\n",
    "if marks >= 80 :\n",
    "    print(\"You have marks greater than 80!\")\n",
    "elif marks >= 60 and marks<80 :\n",
    "    print(\"you have marks between 60 and 80!\")\n",
    "elif marks >= 40 and marks<60 :\n",
    "    print(\"you have marks between 40 and 60!\")\n",
    "else :\n",
    "    print(\"you have marks les than 40 percent!\")"
   ]
  },
  {
   "cell_type": "code",
   "execution_count": 19,
   "id": "2ed5df0c-a1fe-4568-bb5d-11fac39a7f73",
   "metadata": {},
   "outputs": [
    {
     "data": {
      "text/plain": [
       "int"
      ]
     },
     "execution_count": 19,
     "metadata": {},
     "output_type": "execute_result"
    }
   ],
   "source": [
    "type(marks)"
   ]
  },
  {
   "cell_type": "code",
   "execution_count": 25,
   "id": "e804de63-2046-43ac-ae62-d58618ee4cf7",
   "metadata": {},
   "outputs": [
    {
     "name": "stdin",
     "output_type": "stream",
     "text": [
      "enter price : 20\n"
     ]
    },
    {
     "name": "stdout",
     "output_type": "stream",
     "text": [
      "i will purchase!\n"
     ]
    }
   ],
   "source": [
    "price = int(input(\"enter price :\"))\n",
    "if price > 1000 :\n",
    "    print(\"i will not purchase!\")\n",
    "else :\n",
    "    print(\"i will purchase!\")\n"
   ]
  },
  {
   "cell_type": "code",
   "execution_count": 26,
   "id": "6b287277-86a1-4762-8842-b6a67bdd3c2e",
   "metadata": {},
   "outputs": [],
   "source": [
    "l1 = [1,2,3,4,4,7,8,9]"
   ]
  },
  {
   "cell_type": "code",
   "execution_count": 27,
   "id": "f44f5de4-ac54-41b9-8b15-6549c4b16b01",
   "metadata": {},
   "outputs": [
    {
     "data": {
      "text/plain": [
       "[1, 2, 3, 4, 4, 7, 8, 9]"
      ]
     },
     "execution_count": 27,
     "metadata": {},
     "output_type": "execute_result"
    }
   ],
   "source": [
    "l1"
   ]
  },
  {
   "cell_type": "code",
   "execution_count": 32,
   "id": "a0daaeae-7c2d-4c52-9b46-95c0f7663b62",
   "metadata": {},
   "outputs": [
    {
     "data": {
      "text/plain": [
       "[2, 3, 4, 5, 5, 8, 9, 10]"
      ]
     },
     "execution_count": 32,
     "metadata": {},
     "output_type": "execute_result"
    }
   ],
   "source": [
    "l2 = []\n",
    "for i in l1 :\n",
    "    \n",
    "    l2.append(i+1)\n",
    "l2"
   ]
  },
  {
   "cell_type": "code",
   "execution_count": 33,
   "id": "6b7fc665-75c7-4466-84b4-71c45964dde2",
   "metadata": {},
   "outputs": [],
   "source": [
    "l = [\"harsh\",\"harshal1\",\"harshal2\",\"harshal3\"]"
   ]
  },
  {
   "cell_type": "code",
   "execution_count": 34,
   "id": "860bb266-e3dd-4249-972e-36de30c03683",
   "metadata": {},
   "outputs": [
    {
     "data": {
      "text/plain": [
       "['harsh', 'harshal1', 'harshal2', 'harshal3']"
      ]
     },
     "execution_count": 34,
     "metadata": {},
     "output_type": "execute_result"
    }
   ],
   "source": [
    "l"
   ]
  },
  {
   "cell_type": "code",
   "execution_count": 35,
   "id": "32e6c063-9135-4e76-82f7-a6b52c530e01",
   "metadata": {},
   "outputs": [
    {
     "name": "stdout",
     "output_type": "stream",
     "text": [
      "harsh\n",
      "harshal1\n",
      "harshal2\n",
      "harshal3\n"
     ]
    },
    {
     "data": {
      "text/plain": [
       "['HARSH', 'HARSHAL1', 'HARSHAL2', 'HARSHAL3']"
      ]
     },
     "execution_count": 35,
     "metadata": {},
     "output_type": "execute_result"
    }
   ],
   "source": [
    "listUpper = []\n",
    "for name in l :\n",
    "    print(name);\n",
    "    listUpper.append(name.upper())\n",
    "listUpper"
   ]
  },
  {
   "cell_type": "code",
   "execution_count": 3,
   "id": "b4cec1a2-47ef-40dd-aa10-8d8f1be65225",
   "metadata": {},
   "outputs": [],
   "source": [
    "l = [1,2,3,4,4,\"harsh\",\"borgude\",22,23.33,\"abc\"]\n",
    "# make 2 separeate list of int and string"
   ]
  },
  {
   "cell_type": "code",
   "execution_count": 4,
   "id": "8f289af4-2b2b-4b99-a62d-df6181ba1149",
   "metadata": {},
   "outputs": [
    {
     "name": "stdout",
     "output_type": "stream",
     "text": [
      "[1, 2, 3, 4, 4, 22, 23.33]\n",
      "['harsh', 'borgude', 'abc']\n"
     ]
    }
   ],
   "source": [
    "listInt = []\n",
    "listStr = []\n",
    "for i in l :\n",
    "    if type(i) == int or type(i) == float :\n",
    "        listInt.append(i)\n",
    "    else :\n",
    "        listStr.append(i)\n",
    "print(listInt)\n",
    "print(listStr)"
   ]
  },
  {
   "cell_type": "code",
   "execution_count": null,
   "id": "c519a7e6-cdd5-42fa-9223-00619f5b3482",
   "metadata": {},
   "outputs": [],
   "source": []
  },
  {
   "cell_type": "code",
   "execution_count": null,
   "id": "a56f0ed9-cdf7-41d6-b697-544d1cc72635",
   "metadata": {},
   "outputs": [],
   "source": []
  }
 ],
 "metadata": {
  "kernelspec": {
   "display_name": "Python 3 (ipykernel)",
   "language": "python",
   "name": "python3"
  },
  "language_info": {
   "codemirror_mode": {
    "name": "ipython",
    "version": 3
   },
   "file_extension": ".py",
   "mimetype": "text/x-python",
   "name": "python",
   "nbconvert_exporter": "python",
   "pygments_lexer": "ipython3",
   "version": "3.10.8"
  }
 },
 "nbformat": 4,
 "nbformat_minor": 5
}
