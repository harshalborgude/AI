{
 "cells": [
  {
   "cell_type": "code",
   "execution_count": 1,
   "id": "96704b62-4f87-44a7-a7a0-e9d41fbbcd09",
   "metadata": {},
   "outputs": [],
   "source": [
    "# 31st jan lect [List,Tuples,Set]"
   ]
  },
  {
   "cell_type": "code",
   "execution_count": 25,
   "id": "fdbeb1d8-6d2c-4b9c-87d2-e49312f874c5",
   "metadata": {},
   "outputs": [],
   "source": [
    "list1 = [1,232,38,\"Harsh\",True,3+2j,228.99]\n",
    "# all this data will be stored in indexes"
   ]
  },
  {
   "cell_type": "code",
   "execution_count": 26,
   "id": "25f51129-1c98-4a1d-8c5e-635e05c0a959",
   "metadata": {},
   "outputs": [
    {
     "data": {
      "text/plain": [
       "[1, 232, 38, 'Harsh', True, (3+2j), 228.99]"
      ]
     },
     "execution_count": 26,
     "metadata": {},
     "output_type": "execute_result"
    }
   ],
   "source": [
    "list1"
   ]
  },
  {
   "cell_type": "code",
   "execution_count": 27,
   "id": "ec056544-049e-4cf1-8d6e-7e68e4b71e76",
   "metadata": {},
   "outputs": [
    {
     "data": {
      "text/plain": [
       "list"
      ]
     },
     "execution_count": 27,
     "metadata": {},
     "output_type": "execute_result"
    }
   ],
   "source": [
    "type(list1)"
   ]
  },
  {
   "cell_type": "code",
   "execution_count": 28,
   "id": "a230ef35-c91f-4732-bb87-7e61b1f530b0",
   "metadata": {},
   "outputs": [
    {
     "data": {
      "text/plain": [
       "1"
      ]
     },
     "execution_count": 28,
     "metadata": {},
     "output_type": "execute_result"
    }
   ],
   "source": [
    "list1[0]"
   ]
  },
  {
   "cell_type": "code",
   "execution_count": 29,
   "id": "062f55af-5b85-4da2-b0f4-a2a8d04f3204",
   "metadata": {},
   "outputs": [
    {
     "data": {
      "text/plain": [
       "'Harsh'"
      ]
     },
     "execution_count": 29,
     "metadata": {},
     "output_type": "execute_result"
    }
   ],
   "source": [
    "list1[3]"
   ]
  },
  {
   "cell_type": "code",
   "execution_count": 30,
   "id": "30212da0-e5b3-40ac-8adb-9f188aa1ec22",
   "metadata": {},
   "outputs": [
    {
     "data": {
      "text/plain": [
       "'HARSH'"
      ]
     },
     "execution_count": 30,
     "metadata": {},
     "output_type": "execute_result"
    }
   ],
   "source": [
    "list1[3].upper()"
   ]
  },
  {
   "cell_type": "code",
   "execution_count": 31,
   "id": "78c9d41d-8649-4e91-a560-4bd90dd5213a",
   "metadata": {},
   "outputs": [
    {
     "ename": "IndexError",
     "evalue": "list index out of range",
     "output_type": "error",
     "traceback": [
      "\u001b[0;31m---------------------------------------------------------------------------\u001b[0m",
      "\u001b[0;31mIndexError\u001b[0m                                Traceback (most recent call last)",
      "Cell \u001b[0;32mIn[31], line 1\u001b[0m\n\u001b[0;32m----> 1\u001b[0m \u001b[43mlist1\u001b[49m\u001b[43m[\u001b[49m\u001b[38;5;241;43m99\u001b[39;49m\u001b[43m]\u001b[49m\n",
      "\u001b[0;31mIndexError\u001b[0m: list index out of range"
     ]
    }
   ],
   "source": [
    "list1[99]"
   ]
  },
  {
   "cell_type": "code",
   "execution_count": 32,
   "id": "cda361aa-d814-4ecf-90df-5a39bd73a12a",
   "metadata": {},
   "outputs": [
    {
     "data": {
      "text/plain": [
       "[1, 232, 38]"
      ]
     },
     "execution_count": 32,
     "metadata": {},
     "output_type": "execute_result"
    }
   ],
   "source": [
    "list1[0:3]\n",
    "# slicing can be used with list"
   ]
  },
  {
   "cell_type": "code",
   "execution_count": 33,
   "id": "072ce20f-fd4b-4784-9ffb-9ca330239662",
   "metadata": {},
   "outputs": [
    {
     "data": {
      "text/plain": [
       "228.99"
      ]
     },
     "execution_count": 33,
     "metadata": {},
     "output_type": "execute_result"
    }
   ],
   "source": [
    "list1[-1]"
   ]
  },
  {
   "cell_type": "code",
   "execution_count": 34,
   "id": "b07cb9f9-5dc4-4222-b46e-784b455b89e5",
   "metadata": {},
   "outputs": [
    {
     "data": {
      "text/plain": [
       "[228.99, (3+2j), True, 'Harsh', 38, 232, 1]"
      ]
     },
     "execution_count": 34,
     "metadata": {},
     "output_type": "execute_result"
    }
   ],
   "source": [
    "list1[::-1]"
   ]
  },
  {
   "cell_type": "code",
   "execution_count": 35,
   "id": "ff9883be-2118-4f2d-8657-398f00613840",
   "metadata": {},
   "outputs": [],
   "source": [
    "s=\"String\""
   ]
  },
  {
   "cell_type": "code",
   "execution_count": 36,
   "id": "86d0e6c7-a575-42b6-86c5-29566358757f",
   "metadata": {},
   "outputs": [],
   "source": [
    "list1.append(s)"
   ]
  },
  {
   "cell_type": "code",
   "execution_count": 37,
   "id": "8746208a-9b76-481c-8398-97d357132b25",
   "metadata": {},
   "outputs": [
    {
     "data": {
      "text/plain": [
       "[1, 232, 38, 'Harsh', True, (3+2j), 228.99, 'String']"
      ]
     },
     "execution_count": 37,
     "metadata": {},
     "output_type": "execute_result"
    }
   ],
   "source": [
    "list1"
   ]
  },
  {
   "cell_type": "code",
   "execution_count": 38,
   "id": "bacb1251-84b6-44e1-a009-301585ed5d86",
   "metadata": {},
   "outputs": [
    {
     "data": {
      "text/plain": [
       "['S', 't', 'r', 'i', 'n', 'g']"
      ]
     },
     "execution_count": 38,
     "metadata": {},
     "output_type": "execute_result"
    }
   ],
   "source": [
    "list(s)\n",
    "# should convert string to list"
   ]
  },
  {
   "cell_type": "code",
   "execution_count": 39,
   "id": "d19eb604-e950-4ec4-acea-84a8de2bcb66",
   "metadata": {},
   "outputs": [
    {
     "ename": "TypeError",
     "evalue": "There are no type variables left in list[3]",
     "output_type": "error",
     "traceback": [
      "\u001b[0;31m---------------------------------------------------------------------------\u001b[0m",
      "\u001b[0;31mTypeError\u001b[0m                                 Traceback (most recent call last)",
      "Cell \u001b[0;32mIn[39], line 1\u001b[0m\n\u001b[0;32m----> 1\u001b[0m \u001b[38;5;28;43mlist\u001b[39;49m\u001b[43m[\u001b[49m\u001b[38;5;241;43m3\u001b[39;49m\u001b[43m]\u001b[49m\u001b[43m[\u001b[49m\u001b[38;5;241;43m0\u001b[39;49m\u001b[43m:\u001b[49m\u001b[38;5;241;43m2\u001b[39;49m\u001b[43m]\u001b[49m\n\u001b[1;32m      2\u001b[0m \u001b[38;5;66;03m# string's first 2 chars which is stored into list\u001b[39;00m\n",
      "\u001b[0;31mTypeError\u001b[0m: There are no type variables left in list[3]"
     ]
    }
   ],
   "source": [
    "list[3][0:2]\n",
    "# string's first 2 chars which is stored into list"
   ]
  },
  {
   "cell_type": "code",
   "execution_count": 40,
   "id": "28bafdac-1b3f-4d16-9b9a-89d062ea78b3",
   "metadata": {},
   "outputs": [
    {
     "data": {
      "text/plain": [
       "'True'"
      ]
     },
     "execution_count": 40,
     "metadata": {},
     "output_type": "execute_result"
    }
   ],
   "source": [
    "str(list1[4])\n",
    "# converting boolean to string"
   ]
  },
  {
   "cell_type": "code",
   "execution_count": 41,
   "id": "bb178982-5ea5-4863-a5d0-835f9b1c9e4d",
   "metadata": {},
   "outputs": [],
   "source": [
    "l1 = [3,4,7]"
   ]
  },
  {
   "cell_type": "code",
   "execution_count": 42,
   "id": "18d0066b-88a8-4f75-b61f-66a40cc5e245",
   "metadata": {},
   "outputs": [
    {
     "data": {
      "text/plain": [
       "[1, 232, 38, 'Harsh', True, (3+2j), 228.99, 'String', 3, 4, 7]"
      ]
     },
     "execution_count": 42,
     "metadata": {},
     "output_type": "execute_result"
    }
   ],
   "source": [
    "list1 + l1"
   ]
  },
  {
   "cell_type": "code",
   "execution_count": 43,
   "id": "fb17ca8c-d616-4e51-9e4d-af5d13beb820",
   "metadata": {},
   "outputs": [
    {
     "data": {
      "text/plain": [
       "[3, 4, 7, 3, 4, 7, 3, 4, 7]"
      ]
     },
     "execution_count": 43,
     "metadata": {},
     "output_type": "execute_result"
    }
   ],
   "source": [
    "l1 * 3\n",
    "# will multiply list by 3, same element will get added 3 times"
   ]
  },
  {
   "cell_type": "code",
   "execution_count": 44,
   "id": "46ab5960-3d72-4915-805f-9aeb775829c2",
   "metadata": {},
   "outputs": [
    {
     "data": {
      "text/plain": [
       "3"
      ]
     },
     "execution_count": 44,
     "metadata": {},
     "output_type": "execute_result"
    }
   ],
   "source": [
    "len(l1)"
   ]
  },
  {
   "cell_type": "code",
   "execution_count": 45,
   "id": "34ba16dd-7722-411e-93f3-d5f8a811ea0f",
   "metadata": {},
   "outputs": [],
   "source": [
    "l1.append(33)"
   ]
  },
  {
   "cell_type": "code",
   "execution_count": 46,
   "id": "15be6525-8a59-4990-adbe-06a2a0deb380",
   "metadata": {},
   "outputs": [
    {
     "data": {
      "text/plain": [
       "[3, 4, 7, 33]"
      ]
     },
     "execution_count": 46,
     "metadata": {},
     "output_type": "execute_result"
    }
   ],
   "source": [
    "l1"
   ]
  },
  {
   "cell_type": "code",
   "execution_count": 47,
   "id": "f7f9321a-e03a-4b5e-b114-419c90d8e118",
   "metadata": {},
   "outputs": [],
   "source": [
    "l1.append(s)"
   ]
  },
  {
   "cell_type": "code",
   "execution_count": 48,
   "id": "c33933ef-6582-42c5-8dda-86125d0a6695",
   "metadata": {},
   "outputs": [
    {
     "data": {
      "text/plain": [
       "[3, 4, 7, 33, 'String']"
      ]
     },
     "execution_count": 48,
     "metadata": {},
     "output_type": "execute_result"
    }
   ],
   "source": [
    "l1"
   ]
  },
  {
   "cell_type": "code",
   "execution_count": 49,
   "id": "49437dae-0597-46bc-8105-4b3ec967030e",
   "metadata": {},
   "outputs": [
    {
     "data": {
      "text/plain": [
       "[1, 232, 38, 'Harsh', True, (3+2j), 228.99, 'String']"
      ]
     },
     "execution_count": 49,
     "metadata": {},
     "output_type": "execute_result"
    }
   ],
   "source": [
    "list1"
   ]
  },
  {
   "cell_type": "code",
   "execution_count": 50,
   "id": "4872e21d-5bc2-427d-9fe5-d93d846ed123",
   "metadata": {},
   "outputs": [],
   "source": [
    "list1.append(l1)\n",
    "# storing list inside list , this can go on\n",
    "# list can be nested with other objects"
   ]
  },
  {
   "cell_type": "code",
   "execution_count": 51,
   "id": "314774b5-950e-4fde-ac75-2b5bc8aa309a",
   "metadata": {},
   "outputs": [
    {
     "data": {
      "text/plain": [
       "[1, 232, 38, 'Harsh', True, (3+2j), 228.99, 'String', [3, 4, 7, 33, 'String']]"
      ]
     },
     "execution_count": 51,
     "metadata": {},
     "output_type": "execute_result"
    }
   ],
   "source": [
    "list1"
   ]
  },
  {
   "cell_type": "code",
   "execution_count": 52,
   "id": "40d9b04a-5652-417b-925d-b204742b32fc",
   "metadata": {},
   "outputs": [
    {
     "ename": "IndexError",
     "evalue": "list index out of range",
     "output_type": "error",
     "traceback": [
      "\u001b[0;31m---------------------------------------------------------------------------\u001b[0m",
      "\u001b[0;31mIndexError\u001b[0m                                Traceback (most recent call last)",
      "Cell \u001b[0;32mIn[52], line 1\u001b[0m\n\u001b[0;32m----> 1\u001b[0m \u001b[43mlist1\u001b[49m\u001b[43m[\u001b[49m\u001b[38;5;241;43m8\u001b[39;49m\u001b[43m]\u001b[49m\u001b[43m[\u001b[49m\u001b[38;5;241;43m4\u001b[39;49m\u001b[38;5;241;43m+\u001b[39;49m\u001b[38;5;241;43m1\u001b[39;49m\u001b[43m]\u001b[49m\n",
      "\u001b[0;31mIndexError\u001b[0m: list index out of range"
     ]
    }
   ],
   "source": [
    "list1[8][4+1]"
   ]
  },
  {
   "cell_type": "code",
   "execution_count": 53,
   "id": "d8d2ea9b-916b-442b-9e25-df33edeab6ef",
   "metadata": {},
   "outputs": [
    {
     "data": {
      "text/plain": [
       "[3, 4, 7, 33, 'String']"
      ]
     },
     "execution_count": 53,
     "metadata": {},
     "output_type": "execute_result"
    }
   ],
   "source": [
    "l1"
   ]
  },
  {
   "cell_type": "code",
   "execution_count": 54,
   "id": "7bfdace5-c1fe-45b1-b2b9-4a205edd5fd9",
   "metadata": {},
   "outputs": [],
   "source": [
    "l1.extend([2,7,8])\n",
    "# in extend we can pass iterables , extend method will iterate through iterable obj and will append it\n",
    "# append() will add data as it is , while extend will unwrap the data and then will add"
   ]
  },
  {
   "cell_type": "code",
   "execution_count": 57,
   "id": "051773aa-132f-420b-86fa-59b21b9b744c",
   "metadata": {},
   "outputs": [
    {
     "data": {
      "text/plain": [
       "[3, 4, 7, 33, 'String', 2, 7, 8]"
      ]
     },
     "execution_count": 57,
     "metadata": {},
     "output_type": "execute_result"
    }
   ],
   "source": [
    "l1"
   ]
  },
  {
   "cell_type": "code",
   "execution_count": 71,
   "id": "15dc8d5f-54d5-4367-8d98-f2a879621eda",
   "metadata": {},
   "outputs": [],
   "source": [
    "l1.insert(2,77)\n",
    "# to insert data at specific index and will shift previous data , list.insert(index,value)"
   ]
  },
  {
   "cell_type": "code",
   "execution_count": 64,
   "id": "ec7aafcb-8743-4fc6-bad5-32d589886deb",
   "metadata": {},
   "outputs": [
    {
     "data": {
      "text/plain": [
       "[3, 4, 77, 77, 77, 7, 33, 'String', 2, 7, 8]"
      ]
     },
     "execution_count": 64,
     "metadata": {},
     "output_type": "execute_result"
    }
   ],
   "source": [
    "l1"
   ]
  },
  {
   "cell_type": "code",
   "execution_count": 65,
   "id": "450ea586-ecea-496c-ba99-42f3cf2e50ea",
   "metadata": {},
   "outputs": [],
   "source": [
    "l1.insert(7,[2,3,4])"
   ]
  },
  {
   "cell_type": "code",
   "execution_count": 66,
   "id": "bd4e6b5b-eaeb-424a-9b50-8556612f8b9d",
   "metadata": {},
   "outputs": [
    {
     "data": {
      "text/plain": [
       "[3, 4, 77, 77, 77, 7, 33, [2, 3, 4], 'String', 2, 7, 8]"
      ]
     },
     "execution_count": 66,
     "metadata": {},
     "output_type": "execute_result"
    }
   ],
   "source": [
    "l1"
   ]
  },
  {
   "cell_type": "code",
   "execution_count": 70,
   "id": "9d884bfc-4834-4099-a0bc-4aa0d5ba03ff",
   "metadata": {},
   "outputs": [],
   "source": [
    "l1.insert(-1,32)\n",
    "# insert data in reverse direction and will shift data"
   ]
  },
  {
   "cell_type": "code",
   "execution_count": 68,
   "id": "d71959cf-4bc2-4ee4-b796-64d332ab6742",
   "metadata": {},
   "outputs": [
    {
     "data": {
      "text/plain": [
       "[3, 4, 77, 77, 77, 7, 33, [2, 3, 4], 'String', 2, 7, 32, 8]"
      ]
     },
     "execution_count": 68,
     "metadata": {},
     "output_type": "execute_result"
    }
   ],
   "source": [
    "l1"
   ]
  },
  {
   "cell_type": "code",
   "execution_count": 73,
   "id": "fd33269e-347b-4602-a252-8e079003d899",
   "metadata": {},
   "outputs": [
    {
     "data": {
      "text/plain": [
       "32"
      ]
     },
     "execution_count": 73,
     "metadata": {},
     "output_type": "execute_result"
    }
   ],
   "source": [
    "l1.pop()\n",
    "# will remove and return data from last , -1 index"
   ]
  },
  {
   "cell_type": "code",
   "execution_count": 74,
   "id": "4ed73cdf-1089-4248-9e14-2475ce178d20",
   "metadata": {},
   "outputs": [
    {
     "data": {
      "text/plain": [
       "[3, 4, 77, 77, 77, 77, 7, 33, [2, 3, 4], 'String', 2, 7, 32, 32]"
      ]
     },
     "execution_count": 74,
     "metadata": {},
     "output_type": "execute_result"
    }
   ],
   "source": [
    "l1"
   ]
  },
  {
   "cell_type": "code",
   "execution_count": 75,
   "id": "9b9c3ede-7770-499f-a15a-478be7c907d8",
   "metadata": {},
   "outputs": [
    {
     "data": {
      "text/plain": [
       "3"
      ]
     },
     "execution_count": 75,
     "metadata": {},
     "output_type": "execute_result"
    }
   ],
   "source": [
    "l1.pop(0)"
   ]
  },
  {
   "cell_type": "code",
   "execution_count": 76,
   "id": "68830748-daf9-468f-9a51-ee08b5d2f8fa",
   "metadata": {},
   "outputs": [
    {
     "data": {
      "text/plain": [
       "[4, 77, 77, 77, 77, 7, 33, [2, 3, 4], 'String', 2, 7, 32, 32]"
      ]
     },
     "execution_count": 76,
     "metadata": {},
     "output_type": "execute_result"
    }
   ],
   "source": [
    "l1"
   ]
  },
  {
   "cell_type": "code",
   "execution_count": 77,
   "id": "ab0f0957-edc4-4e87-95ad-80f4988bc49e",
   "metadata": {},
   "outputs": [],
   "source": [
    "l1.remove(33)"
   ]
  },
  {
   "cell_type": "code",
   "execution_count": 78,
   "id": "4103208d-eb5c-482d-9393-7bb3212120cd",
   "metadata": {},
   "outputs": [
    {
     "data": {
      "text/plain": [
       "[4, 77, 77, 77, 77, 7, [2, 3, 4], 'String', 2, 7, 32, 32]"
      ]
     },
     "execution_count": 78,
     "metadata": {},
     "output_type": "execute_result"
    }
   ],
   "source": [
    "l1"
   ]
  },
  {
   "cell_type": "code",
   "execution_count": 79,
   "id": "bb249a2d-e788-43f4-8fbf-c6e649e414f6",
   "metadata": {},
   "outputs": [
    {
     "ename": "ValueError",
     "evalue": "list.remove(x): x not in list",
     "output_type": "error",
     "traceback": [
      "\u001b[0;31m---------------------------------------------------------------------------\u001b[0m",
      "\u001b[0;31mValueError\u001b[0m                                Traceback (most recent call last)",
      "Cell \u001b[0;32mIn[79], line 1\u001b[0m\n\u001b[0;32m----> 1\u001b[0m \u001b[43ml1\u001b[49m\u001b[38;5;241;43m.\u001b[39;49m\u001b[43mremove\u001b[49m\u001b[43m(\u001b[49m\u001b[38;5;241;43m23\u001b[39;49m\u001b[43m)\u001b[49m\n",
      "\u001b[0;31mValueError\u001b[0m: list.remove(x): x not in list"
     ]
    }
   ],
   "source": [
    "l1.remove(23)"
   ]
  },
  {
   "cell_type": "code",
   "execution_count": 80,
   "id": "a7d7cc59-a0c7-4fbb-b681-df0787a2b8a3",
   "metadata": {},
   "outputs": [],
   "source": [
    "l1[6].remove(4)"
   ]
  },
  {
   "cell_type": "code",
   "execution_count": 81,
   "id": "ec6f5c94-a18e-4baa-9dca-42d1a7d824a7",
   "metadata": {},
   "outputs": [
    {
     "data": {
      "text/plain": [
       "[4, 77, 77, 77, 77, 7, [2, 3], 'String', 2, 7, 32, 32]"
      ]
     },
     "execution_count": 81,
     "metadata": {},
     "output_type": "execute_result"
    }
   ],
   "source": [
    "l1"
   ]
  },
  {
   "cell_type": "code",
   "execution_count": 85,
   "id": "02151b4b-2cff-454c-b515-b33e8f379f43",
   "metadata": {},
   "outputs": [
    {
     "data": {
      "text/plain": [
       "[4, 77, 77, 77, 77, 7, [2, 3], 'String', 2, 7, 32, 32]"
      ]
     },
     "execution_count": 85,
     "metadata": {},
     "output_type": "execute_result"
    }
   ],
   "source": [
    "l1[::-1]"
   ]
  },
  {
   "cell_type": "code",
   "execution_count": 83,
   "id": "f70cb481-0a35-4650-9206-65398024ecb6",
   "metadata": {},
   "outputs": [],
   "source": [
    "l1.reverse()"
   ]
  },
  {
   "cell_type": "code",
   "execution_count": 84,
   "id": "5cc78798-12a7-460f-9a1e-6e197c40a62c",
   "metadata": {},
   "outputs": [
    {
     "data": {
      "text/plain": [
       "[32, 32, 7, 2, 'String', [2, 3], 7, 77, 77, 77, 77, 4]"
      ]
     },
     "execution_count": 84,
     "metadata": {},
     "output_type": "execute_result"
    }
   ],
   "source": [
    "l1"
   ]
  },
  {
   "cell_type": "code",
   "execution_count": 86,
   "id": "b41c21ea-2bb6-4290-8f25-259b2c8795e3",
   "metadata": {},
   "outputs": [],
   "source": [
    "l1 = l1[::-1]"
   ]
  },
  {
   "cell_type": "code",
   "execution_count": 87,
   "id": "92bce36c-ab70-48d5-809e-4f2885c0e3bb",
   "metadata": {},
   "outputs": [
    {
     "data": {
      "text/plain": [
       "[4, 77, 77, 77, 77, 7, [2, 3], 'String', 2, 7, 32, 32]"
      ]
     },
     "execution_count": 87,
     "metadata": {},
     "output_type": "execute_result"
    }
   ],
   "source": [
    "l1"
   ]
  },
  {
   "cell_type": "code",
   "execution_count": 92,
   "id": "ba1c769c-a5cf-40a3-93fd-ad315f15cde2",
   "metadata": {},
   "outputs": [],
   "source": [
    "l2 = [8,3,4,9,1,2]"
   ]
  },
  {
   "cell_type": "code",
   "execution_count": 93,
   "id": "a6b0532e-76e9-48c5-b511-b54f03e07a16",
   "metadata": {},
   "outputs": [],
   "source": [
    "l2.sort()"
   ]
  },
  {
   "cell_type": "code",
   "execution_count": 94,
   "id": "11429e31-d24c-4e58-95ce-e1ef5ce0cc7d",
   "metadata": {},
   "outputs": [
    {
     "data": {
      "text/plain": [
       "[1, 2, 3, 4, 8, 9]"
      ]
     },
     "execution_count": 94,
     "metadata": {},
     "output_type": "execute_result"
    }
   ],
   "source": [
    "l2"
   ]
  },
  {
   "cell_type": "code",
   "execution_count": 95,
   "id": "e0c34485-348d-4329-a34b-19ac8de9f146",
   "metadata": {},
   "outputs": [],
   "source": [
    "l3 = [2,4,1,\"harsh\"]"
   ]
  },
  {
   "cell_type": "code",
   "execution_count": 96,
   "id": "e2365eed-49b2-4597-8004-1a1c6de71cbe",
   "metadata": {},
   "outputs": [
    {
     "ename": "TypeError",
     "evalue": "'<' not supported between instances of 'str' and 'int'",
     "output_type": "error",
     "traceback": [
      "\u001b[0;31m---------------------------------------------------------------------------\u001b[0m",
      "\u001b[0;31mTypeError\u001b[0m                                 Traceback (most recent call last)",
      "Cell \u001b[0;32mIn[96], line 1\u001b[0m\n\u001b[0;32m----> 1\u001b[0m \u001b[43ml3\u001b[49m\u001b[38;5;241;43m.\u001b[39;49m\u001b[43msort\u001b[49m\u001b[43m(\u001b[49m\u001b[43m)\u001b[49m\n",
      "\u001b[0;31mTypeError\u001b[0m: '<' not supported between instances of 'str' and 'int'"
     ]
    }
   ],
   "source": [
    "l3.sort()"
   ]
  },
  {
   "cell_type": "code",
   "execution_count": 106,
   "id": "22474b38-8e90-4d1c-9ab7-e33435ccdf09",
   "metadata": {},
   "outputs": [],
   "source": [
    "l4 = [\"za\",\"az\",\"pq\",\"pq\"]"
   ]
  },
  {
   "cell_type": "code",
   "execution_count": 107,
   "id": "7f1ffc1f-0781-4310-8cbe-df3b39c0c67a",
   "metadata": {},
   "outputs": [
    {
     "data": {
      "text/plain": [
       "['za', 'az', 'pq', 'pq']"
      ]
     },
     "execution_count": 107,
     "metadata": {},
     "output_type": "execute_result"
    }
   ],
   "source": [
    "l4"
   ]
  },
  {
   "cell_type": "code",
   "execution_count": 108,
   "id": "4e47fc21-4b85-4d6b-a904-53140f2858c4",
   "metadata": {},
   "outputs": [],
   "source": [
    "l4.sort()"
   ]
  },
  {
   "cell_type": "code",
   "execution_count": 109,
   "id": "98ab890a-45aa-46e9-a19c-50b65facf795",
   "metadata": {},
   "outputs": [
    {
     "data": {
      "text/plain": [
       "['az', 'pq', 'pq', 'za']"
      ]
     },
     "execution_count": 109,
     "metadata": {},
     "output_type": "execute_result"
    }
   ],
   "source": [
    "l4"
   ]
  },
  {
   "cell_type": "code",
   "execution_count": 110,
   "id": "f0f6fa5b-cb93-4bed-a7c0-d537aa904287",
   "metadata": {},
   "outputs": [],
   "source": [
    "l4.sort(reverse=True)"
   ]
  },
  {
   "cell_type": "code",
   "execution_count": 111,
   "id": "5f06a59c-145a-469c-b9dd-b0514129be7f",
   "metadata": {},
   "outputs": [
    {
     "data": {
      "text/plain": [
       "['za', 'pq', 'pq', 'az']"
      ]
     },
     "execution_count": 111,
     "metadata": {},
     "output_type": "execute_result"
    }
   ],
   "source": [
    "l4"
   ]
  },
  {
   "cell_type": "code",
   "execution_count": 112,
   "id": "865984d8-cc26-4c4f-9f77-d74fc4e099cb",
   "metadata": {},
   "outputs": [
    {
     "data": {
      "text/plain": [
       "1"
      ]
     },
     "execution_count": 112,
     "metadata": {},
     "output_type": "execute_result"
    }
   ],
   "source": [
    "l4.index(\"pq\")"
   ]
  },
  {
   "cell_type": "code",
   "execution_count": 113,
   "id": "89bd01bc-6dbd-48ae-a665-180d6441582c",
   "metadata": {},
   "outputs": [
    {
     "data": {
      "text/plain": [
       "2"
      ]
     },
     "execution_count": 113,
     "metadata": {},
     "output_type": "execute_result"
    }
   ],
   "source": [
    "l4.count(\"pq\")"
   ]
  },
  {
   "cell_type": "code",
   "execution_count": 114,
   "id": "e272d521-de56-483c-914b-87728a65f108",
   "metadata": {},
   "outputs": [],
   "source": [
    "name = \"Harshal\""
   ]
  },
  {
   "cell_type": "code",
   "execution_count": 115,
   "id": "b0b9a7a8-744a-42bb-8128-34837a78fced",
   "metadata": {},
   "outputs": [
    {
     "data": {
      "text/plain": [
       "'Harshal'"
      ]
     },
     "execution_count": 115,
     "metadata": {},
     "output_type": "execute_result"
    }
   ],
   "source": [
    "name"
   ]
  },
  {
   "cell_type": "code",
   "execution_count": 116,
   "id": "cc498df8-2f58-4380-b53e-e13b0e0400e5",
   "metadata": {},
   "outputs": [
    {
     "ename": "TypeError",
     "evalue": "'str' object does not support item assignment",
     "output_type": "error",
     "traceback": [
      "\u001b[0;31m---------------------------------------------------------------------------\u001b[0m",
      "\u001b[0;31mTypeError\u001b[0m                                 Traceback (most recent call last)",
      "Cell \u001b[0;32mIn[116], line 1\u001b[0m\n\u001b[0;32m----> 1\u001b[0m \u001b[43mname\u001b[49m\u001b[43m[\u001b[49m\u001b[38;5;241;43m0\u001b[39;49m\u001b[43m]\u001b[49m \u001b[38;5;241m=\u001b[39m \u001b[38;5;124m\"\u001b[39m\u001b[38;5;124mh\u001b[39m\u001b[38;5;124m\"\u001b[39m\n",
      "\u001b[0;31mTypeError\u001b[0m: 'str' object does not support item assignment"
     ]
    }
   ],
   "source": [
    "name[0] = \"h\""
   ]
  },
  {
   "cell_type": "code",
   "execution_count": 117,
   "id": "272a3407-c566-48d8-aee3-aa897ae512f8",
   "metadata": {},
   "outputs": [],
   "source": [
    "l4[0] = \"zb\""
   ]
  },
  {
   "cell_type": "code",
   "execution_count": 118,
   "id": "fbc2615f-8301-4b6c-bcf1-a53e6c7802b8",
   "metadata": {},
   "outputs": [
    {
     "data": {
      "text/plain": [
       "['zb', 'pq', 'pq', 'az']"
      ]
     },
     "execution_count": 118,
     "metadata": {},
     "output_type": "execute_result"
    }
   ],
   "source": [
    "l4"
   ]
  },
  {
   "cell_type": "code",
   "execution_count": 119,
   "id": "8d5dc6d7-3742-4b92-8f2f-d17cd2d0e4ac",
   "metadata": {},
   "outputs": [
    {
     "data": {
      "text/plain": [
       "'Harshal'"
      ]
     },
     "execution_count": 119,
     "metadata": {},
     "output_type": "execute_result"
    }
   ],
   "source": [
    "name"
   ]
  },
  {
   "cell_type": "code",
   "execution_count": 120,
   "id": "919c9d34-b8e0-46b1-b722-5baf5513fb2b",
   "metadata": {},
   "outputs": [
    {
     "data": {
      "text/plain": [
       "'harshal'"
      ]
     },
     "execution_count": 120,
     "metadata": {},
     "output_type": "execute_result"
    }
   ],
   "source": [
    "name.replace('H','h')"
   ]
  },
  {
   "cell_type": "code",
   "execution_count": 121,
   "id": "4098348d-879c-4e2d-8f94-9201b406637c",
   "metadata": {},
   "outputs": [
    {
     "data": {
      "text/plain": [
       "'Harshal'"
      ]
     },
     "execution_count": 121,
     "metadata": {},
     "output_type": "execute_result"
    }
   ],
   "source": [
    "name"
   ]
  },
  {
   "cell_type": "code",
   "execution_count": 123,
   "id": "73b1cd4a-4bce-4c9e-9dcb-57a9de080980",
   "metadata": {},
   "outputs": [],
   "source": [
    "######################################################\n"
   ]
  },
  {
   "cell_type": "code",
   "execution_count": 124,
   "id": "2c366cb9-1378-4d86-9c7e-05b081ad4720",
   "metadata": {},
   "outputs": [],
   "source": [
    "# Tuples"
   ]
  },
  {
   "cell_type": "code",
   "execution_count": 125,
   "id": "4aaf7120-770c-4007-b763-b7d33f64ea0f",
   "metadata": {},
   "outputs": [],
   "source": [
    "tup = (2,3,4,\"harsh\",22.22,[2,3,4],4+3j)"
   ]
  },
  {
   "cell_type": "code",
   "execution_count": 126,
   "id": "3d130ce3-9b37-4a45-a654-1ac05883be07",
   "metadata": {},
   "outputs": [
    {
     "data": {
      "text/plain": [
       "(2, 3, 4, 'harsh', 22.22, [2, 3, 4], (4+3j))"
      ]
     },
     "execution_count": 126,
     "metadata": {},
     "output_type": "execute_result"
    }
   ],
   "source": [
    "tup"
   ]
  },
  {
   "cell_type": "code",
   "execution_count": 127,
   "id": "6256f3b2-8e90-48b7-9819-30bbd5f166ce",
   "metadata": {},
   "outputs": [
    {
     "data": {
      "text/plain": [
       "tuple"
      ]
     },
     "execution_count": 127,
     "metadata": {},
     "output_type": "execute_result"
    }
   ],
   "source": [
    "type(tup)"
   ]
  },
  {
   "cell_type": "code",
   "execution_count": 128,
   "id": "5486c8bc-4e83-43a2-874d-f73c6d4dfde0",
   "metadata": {},
   "outputs": [
    {
     "data": {
      "text/plain": [
       "7"
      ]
     },
     "execution_count": 128,
     "metadata": {},
     "output_type": "execute_result"
    }
   ],
   "source": [
    "len(tup)"
   ]
  },
  {
   "cell_type": "code",
   "execution_count": 129,
   "id": "675fe685-c101-441d-b391-d295fb1ca000",
   "metadata": {},
   "outputs": [
    {
     "data": {
      "text/plain": [
       "'harsh'"
      ]
     },
     "execution_count": 129,
     "metadata": {},
     "output_type": "execute_result"
    }
   ],
   "source": [
    "tup[3]"
   ]
  },
  {
   "cell_type": "code",
   "execution_count": 130,
   "id": "50dd2c50-8603-43ae-8c95-bd57433d3233",
   "metadata": {},
   "outputs": [
    {
     "data": {
      "text/plain": [
       "(4+3j)"
      ]
     },
     "execution_count": 130,
     "metadata": {},
     "output_type": "execute_result"
    }
   ],
   "source": [
    "tup[-1]"
   ]
  },
  {
   "cell_type": "code",
   "execution_count": 131,
   "id": "dc0574f3-2c50-4812-8c26-c41360be14e1",
   "metadata": {},
   "outputs": [
    {
     "data": {
      "text/plain": [
       "((4+3j), [2, 3, 4], 22.22, 'harsh', 4, 3, 2)"
      ]
     },
     "execution_count": 131,
     "metadata": {},
     "output_type": "execute_result"
    }
   ],
   "source": [
    "tup[::-1]"
   ]
  },
  {
   "cell_type": "code",
   "execution_count": 132,
   "id": "72f336fd-eab1-427e-98db-f7666fd95cfd",
   "metadata": {},
   "outputs": [
    {
     "data": {
      "text/plain": [
       "(2, 3, 4, 'harsh', 22.22, [2, 3, 4], (4+3j))"
      ]
     },
     "execution_count": 132,
     "metadata": {},
     "output_type": "execute_result"
    }
   ],
   "source": [
    "tup"
   ]
  },
  {
   "cell_type": "code",
   "execution_count": 133,
   "id": "9a846f54-69b0-44ab-b34f-0f893eb6d7f9",
   "metadata": {},
   "outputs": [
    {
     "ename": "TypeError",
     "evalue": "'tuple' object does not support item assignment",
     "output_type": "error",
     "traceback": [
      "\u001b[0;31m---------------------------------------------------------------------------\u001b[0m",
      "\u001b[0;31mTypeError\u001b[0m                                 Traceback (most recent call last)",
      "Cell \u001b[0;32mIn[133], line 1\u001b[0m\n\u001b[0;32m----> 1\u001b[0m \u001b[43mtup\u001b[49m\u001b[43m[\u001b[49m\u001b[38;5;241;43m0\u001b[39;49m\u001b[43m]\u001b[49m \u001b[38;5;241m=\u001b[39m \u001b[38;5;241m9\u001b[39m\n",
      "\u001b[0;31mTypeError\u001b[0m: 'tuple' object does not support item assignment"
     ]
    }
   ],
   "source": [
    "tup[0] = 9"
   ]
  },
  {
   "cell_type": "code",
   "execution_count": 134,
   "id": "071728a5-54aa-45b4-aee8-f4528aafb1df",
   "metadata": {},
   "outputs": [],
   "source": [
    "# tuples are immutable , list are mutable can change , this is the only diff between both"
   ]
  },
  {
   "cell_type": "code",
   "execution_count": 135,
   "id": "3f0debd9-cbeb-47bc-9024-990eb13f211e",
   "metadata": {},
   "outputs": [
    {
     "data": {
      "text/plain": [
       "1"
      ]
     },
     "execution_count": 135,
     "metadata": {},
     "output_type": "execute_result"
    }
   ],
   "source": [
    "tup.count(2)"
   ]
  },
  {
   "cell_type": "code",
   "execution_count": 136,
   "id": "9baed8c8-85a3-4393-9b5a-07e027b28a5a",
   "metadata": {},
   "outputs": [
    {
     "data": {
      "text/plain": [
       "2"
      ]
     },
     "execution_count": 136,
     "metadata": {},
     "output_type": "execute_result"
    }
   ],
   "source": [
    "tup.index(4)"
   ]
  },
  {
   "cell_type": "code",
   "execution_count": 138,
   "id": "97e5957d-76c0-45fc-8d36-9ea9186d542e",
   "metadata": {},
   "outputs": [
    {
     "ename": "TypeError",
     "evalue": "'tuple' object does not support item assignment",
     "output_type": "error",
     "traceback": [
      "\u001b[0;31m---------------------------------------------------------------------------\u001b[0m",
      "\u001b[0;31mTypeError\u001b[0m                                 Traceback (most recent call last)",
      "Cell \u001b[0;32mIn[138], line 1\u001b[0m\n\u001b[0;32m----> 1\u001b[0m \u001b[43mtup\u001b[49m\u001b[43m[\u001b[49m\u001b[38;5;241;43m7\u001b[39;49m\u001b[43m]\u001b[49m \u001b[38;5;241m=\u001b[39m \u001b[38;5;241m0\u001b[39m\n",
      "\u001b[0;31mTypeError\u001b[0m: 'tuple' object does not support item assignment"
     ]
    }
   ],
   "source": [
    "tup[7] = 0"
   ]
  },
  {
   "cell_type": "code",
   "execution_count": 139,
   "id": "ff13f87d-dc51-4395-b6a9-83d360442d32",
   "metadata": {},
   "outputs": [],
   "source": [
    "#############################################################################"
   ]
  },
  {
   "cell_type": "code",
   "execution_count": 140,
   "id": "58a70517-fb30-4b6d-bb85-65756cd9f8e9",
   "metadata": {},
   "outputs": [],
   "source": [
    "# Set "
   ]
  },
  {
   "cell_type": "code",
   "execution_count": 141,
   "id": "cf3f5ea1-ea2f-413e-bed2-1241f2dbc919",
   "metadata": {},
   "outputs": [],
   "source": [
    "s = {}"
   ]
  },
  {
   "cell_type": "code",
   "execution_count": 142,
   "id": "81b7b4f0-20d7-4373-aa3c-d50b1d839455",
   "metadata": {},
   "outputs": [
    {
     "data": {
      "text/plain": [
       "dict"
      ]
     },
     "execution_count": 142,
     "metadata": {},
     "output_type": "execute_result"
    }
   ],
   "source": [
    "type(s)"
   ]
  },
  {
   "cell_type": "code",
   "execution_count": 143,
   "id": "deef9522-e843-4013-a9af-316e8b36b37a",
   "metadata": {},
   "outputs": [],
   "source": [
    "s2 = {2,3,4,7}"
   ]
  },
  {
   "cell_type": "code",
   "execution_count": 144,
   "id": "4d72d2b7-647b-4bb5-85e3-90662a1e69bb",
   "metadata": {},
   "outputs": [
    {
     "data": {
      "text/plain": [
       "set"
      ]
     },
     "execution_count": 144,
     "metadata": {},
     "output_type": "execute_result"
    }
   ],
   "source": [
    "type(s2)"
   ]
  },
  {
   "cell_type": "code",
   "execution_count": 145,
   "id": "44fc4d0c-feb2-4e2b-ba98-498aa153eb73",
   "metadata": {},
   "outputs": [],
   "source": [
    "s2.add(2)"
   ]
  },
  {
   "cell_type": "code",
   "execution_count": 146,
   "id": "64e6220d-01a0-4e83-a69a-65ffb4185158",
   "metadata": {},
   "outputs": [
    {
     "data": {
      "text/plain": [
       "{2, 3, 4, 7}"
      ]
     },
     "execution_count": 146,
     "metadata": {},
     "output_type": "execute_result"
    }
   ],
   "source": [
    "s2"
   ]
  },
  {
   "cell_type": "code",
   "execution_count": 147,
   "id": "49caa2c0-cc0c-4ac4-a8d2-3751fff14d13",
   "metadata": {},
   "outputs": [],
   "source": [
    "s3 = {2,3,4,(2,3,4)}"
   ]
  },
  {
   "cell_type": "code",
   "execution_count": 148,
   "id": "1816f04c-f4fb-4545-994c-56217f0ec6e8",
   "metadata": {},
   "outputs": [
    {
     "data": {
      "text/plain": [
       "{(2, 3, 4), 2, 3, 4}"
      ]
     },
     "execution_count": 148,
     "metadata": {},
     "output_type": "execute_result"
    }
   ],
   "source": [
    "s3"
   ]
  },
  {
   "cell_type": "code",
   "execution_count": 149,
   "id": "2bc9cb29-97cc-45df-8273-6a37fa18b87f",
   "metadata": {},
   "outputs": [
    {
     "ename": "TypeError",
     "evalue": "unhashable type: 'list'",
     "output_type": "error",
     "traceback": [
      "\u001b[0;31m---------------------------------------------------------------------------\u001b[0m",
      "\u001b[0;31mTypeError\u001b[0m                                 Traceback (most recent call last)",
      "Cell \u001b[0;32mIn[149], line 1\u001b[0m\n\u001b[0;32m----> 1\u001b[0m s4 \u001b[38;5;241m=\u001b[39m {\u001b[38;5;241m2\u001b[39m,\u001b[38;5;241m3\u001b[39m,\u001b[38;5;241m4\u001b[39m,[\u001b[38;5;241m1\u001b[39m,\u001b[38;5;241m2\u001b[39m,\u001b[38;5;241m3\u001b[39m]}\n",
      "\u001b[0;31mTypeError\u001b[0m: unhashable type: 'list'"
     ]
    }
   ],
   "source": [
    "s4 = {2,3,4,[1,2,3]}"
   ]
  },
  {
   "cell_type": "code",
   "execution_count": 154,
   "id": "8df0382e-3600-4a47-b86d-b1f86b76ff18",
   "metadata": {},
   "outputs": [],
   "source": [
    "s7 = {1,1,1,2,3,4,2,2,4,4,7,8,7,\"Harsh\",\"harsh\",\"harsh\"}"
   ]
  },
  {
   "cell_type": "code",
   "execution_count": 155,
   "id": "52214478-a354-494f-a900-011b31debb23",
   "metadata": {},
   "outputs": [
    {
     "data": {
      "text/plain": [
       "{1, 2, 3, 4, 7, 8, 'Harsh', 'harsh'}"
      ]
     },
     "execution_count": 155,
     "metadata": {},
     "output_type": "execute_result"
    }
   ],
   "source": [
    "s7"
   ]
  },
  {
   "cell_type": "code",
   "execution_count": 156,
   "id": "e8528d02-1c73-42b1-b57e-915bf53b2f0c",
   "metadata": {},
   "outputs": [],
   "source": [
    "li = [1,2,1,2,1,2,4,3]"
   ]
  },
  {
   "cell_type": "code",
   "execution_count": 157,
   "id": "e3ea1572-76f8-4a8f-8c47-579d6874971a",
   "metadata": {},
   "outputs": [
    {
     "data": {
      "text/plain": [
       "[1, 2, 1, 2, 1, 2, 4, 3]"
      ]
     },
     "execution_count": 157,
     "metadata": {},
     "output_type": "execute_result"
    }
   ],
   "source": [
    "li"
   ]
  },
  {
   "cell_type": "code",
   "execution_count": 158,
   "id": "5ddde3a9-4a17-46ca-a7e5-19cb00718b0a",
   "metadata": {},
   "outputs": [
    {
     "data": {
      "text/plain": [
       "{1, 2, 3, 4}"
      ]
     },
     "execution_count": 158,
     "metadata": {},
     "output_type": "execute_result"
    }
   ],
   "source": [
    "set(li)"
   ]
  },
  {
   "cell_type": "code",
   "execution_count": 161,
   "id": "567ad70e-bb6d-4dbd-a5b4-08478553e759",
   "metadata": {},
   "outputs": [],
   "source": [
    "li = list(set(li))"
   ]
  },
  {
   "cell_type": "code",
   "execution_count": 162,
   "id": "c5b1defc-187b-4747-a13c-4ccea8f06c8a",
   "metadata": {},
   "outputs": [
    {
     "data": {
      "text/plain": [
       "[1, 2, 3, 4]"
      ]
     },
     "execution_count": 162,
     "metadata": {},
     "output_type": "execute_result"
    }
   ],
   "source": [
    "li"
   ]
  },
  {
   "cell_type": "code",
   "execution_count": 167,
   "id": "4ded657b-e918-4b52-8520-625cfc4cd52c",
   "metadata": {},
   "outputs": [],
   "source": [
    "set2 = {7,8,7,8,1,2,1,1,2,22,34,0,\"abc\"}"
   ]
  },
  {
   "cell_type": "code",
   "execution_count": 168,
   "id": "8ede67a4-ed88-4002-8173-cc306217716e",
   "metadata": {},
   "outputs": [
    {
     "data": {
      "text/plain": [
       "{0, 1, 2, 22, 34, 7, 8, 'abc'}"
      ]
     },
     "execution_count": 168,
     "metadata": {},
     "output_type": "execute_result"
    }
   ],
   "source": [
    "set2"
   ]
  },
  {
   "cell_type": "code",
   "execution_count": 169,
   "id": "37e8d2c4-ef9d-44d7-91b9-aa0bbbd350f5",
   "metadata": {},
   "outputs": [],
   "source": [
    "set2.add(4)"
   ]
  },
  {
   "cell_type": "code",
   "execution_count": 170,
   "id": "e2b4186f-cd0f-465c-9047-ce16f8c6b508",
   "metadata": {},
   "outputs": [
    {
     "data": {
      "text/plain": [
       "{0, 1, 2, 22, 34, 4, 7, 8, 'abc'}"
      ]
     },
     "execution_count": 170,
     "metadata": {},
     "output_type": "execute_result"
    }
   ],
   "source": [
    "set2"
   ]
  },
  {
   "cell_type": "code",
   "execution_count": 171,
   "id": "7a9b62bf-4b5e-40b3-be6d-1ee86c999be8",
   "metadata": {},
   "outputs": [],
   "source": [
    "set2.remove(0)"
   ]
  },
  {
   "cell_type": "code",
   "execution_count": 172,
   "id": "3010dd29-24ab-442a-a6f0-16b512970a27",
   "metadata": {},
   "outputs": [
    {
     "data": {
      "text/plain": [
       "{1, 2, 22, 34, 4, 7, 8, 'abc'}"
      ]
     },
     "execution_count": 172,
     "metadata": {},
     "output_type": "execute_result"
    }
   ],
   "source": [
    "set2"
   ]
  },
  {
   "cell_type": "code",
   "execution_count": null,
   "id": "563f7953-45dc-41e9-b47a-08f181551416",
   "metadata": {},
   "outputs": [],
   "source": []
  }
 ],
 "metadata": {
  "kernelspec": {
   "display_name": "Python 3 (ipykernel)",
   "language": "python",
   "name": "python3"
  },
  "language_info": {
   "codemirror_mode": {
    "name": "ipython",
    "version": 3
   },
   "file_extension": ".py",
   "mimetype": "text/x-python",
   "name": "python",
   "nbconvert_exporter": "python",
   "pygments_lexer": "ipython3",
   "version": "3.10.8"
  }
 },
 "nbformat": 4,
 "nbformat_minor": 5
}
