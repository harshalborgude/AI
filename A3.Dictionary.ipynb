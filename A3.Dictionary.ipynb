{
 "cells": [
  {
   "cell_type": "code",
   "execution_count": 1,
   "id": "d32c7c6a-e780-44a0-a49a-3ba243448ee4",
   "metadata": {},
   "outputs": [],
   "source": [
    "# 1 Feb [Dictionary]"
   ]
  },
  {
   "cell_type": "code",
   "execution_count": 5,
   "id": "d214e5bc-b248-4db5-9904-fb336e2f69ca",
   "metadata": {},
   "outputs": [],
   "source": [
    "d = {}"
   ]
  },
  {
   "cell_type": "code",
   "execution_count": 6,
   "id": "070b9e6c-3ab7-4764-a8b8-cf3799519b95",
   "metadata": {},
   "outputs": [
    {
     "data": {
      "text/plain": [
       "dict"
      ]
     },
     "execution_count": 6,
     "metadata": {},
     "output_type": "execute_result"
    }
   ],
   "source": [
    "type(d)"
   ]
  },
  {
   "cell_type": "code",
   "execution_count": 7,
   "id": "5ba48988-b0aa-4ec8-a33d-bb3f5b7b1af9",
   "metadata": {},
   "outputs": [],
   "source": [
    "d1 = {'key':\"Harsh\"}"
   ]
  },
  {
   "cell_type": "code",
   "execution_count": 8,
   "id": "83cd9716-c2c7-4b39-a12b-5bec8bae2696",
   "metadata": {},
   "outputs": [
    {
     "data": {
      "text/plain": [
       "{'key': 'Harsh'}"
      ]
     },
     "execution_count": 8,
     "metadata": {},
     "output_type": "execute_result"
    }
   ],
   "source": [
    "d1"
   ]
  },
  {
   "cell_type": "code",
   "execution_count": 9,
   "id": "4eed1b58-7039-4d71-b80c-1fc09cbd1fbf",
   "metadata": {},
   "outputs": [],
   "source": [
    "d2 = {'name':\"harshal\",'email':'harshalborgude933@gmail.com','number':'9302292313'}"
   ]
  },
  {
   "cell_type": "code",
   "execution_count": 10,
   "id": "9ca6ecb5-7881-434d-8afa-e041bddf1425",
   "metadata": {},
   "outputs": [
    {
     "data": {
      "text/plain": [
       "{'name': 'harshal',\n",
       " 'email': 'harshalborgude933@gmail.com',\n",
       " 'number': '9302292313'}"
      ]
     },
     "execution_count": 10,
     "metadata": {},
     "output_type": "execute_result"
    }
   ],
   "source": [
    "d2"
   ]
  },
  {
   "cell_type": "code",
   "execution_count": 13,
   "id": "10c9cb47-1df3-42f4-8b86-ed1c3fe151eb",
   "metadata": {},
   "outputs": [],
   "source": [
    "d3 = {22:'Harsh','_name':'Harsh',True:\"True\"}"
   ]
  },
  {
   "cell_type": "code",
   "execution_count": 16,
   "id": "9ec30e13-0e1c-4c51-bd3e-81093b892257",
   "metadata": {},
   "outputs": [
    {
     "data": {
      "text/plain": [
       "'Harsh'"
      ]
     },
     "execution_count": 16,
     "metadata": {},
     "output_type": "execute_result"
    }
   ],
   "source": [
    "d3['_name']"
   ]
  },
  {
   "cell_type": "code",
   "execution_count": 17,
   "id": "64e13367-0aa1-4a34-b043-de3e447e1061",
   "metadata": {},
   "outputs": [
    {
     "data": {
      "text/plain": [
       "'Harsh'"
      ]
     },
     "execution_count": 17,
     "metadata": {},
     "output_type": "execute_result"
    }
   ],
   "source": [
    "d3[22]"
   ]
  },
  {
   "cell_type": "code",
   "execution_count": 18,
   "id": "a75aadc8-70ef-4b42-9e71-f2b61b135ea7",
   "metadata": {},
   "outputs": [
    {
     "data": {
      "text/plain": [
       "'True'"
      ]
     },
     "execution_count": 18,
     "metadata": {},
     "output_type": "execute_result"
    }
   ],
   "source": [
    "d3[True]"
   ]
  },
  {
   "cell_type": "code",
   "execution_count": 19,
   "id": "bee3133b-4ec0-4f00-a1a8-b9e91b1588b9",
   "metadata": {},
   "outputs": [
    {
     "data": {
      "text/plain": [
       "'True'"
      ]
     },
     "execution_count": 19,
     "metadata": {},
     "output_type": "execute_result"
    }
   ],
   "source": [
    "d3[1]"
   ]
  },
  {
   "cell_type": "code",
   "execution_count": 20,
   "id": "70ff74f7-eb2e-4d82-87fc-629cb717e59e",
   "metadata": {},
   "outputs": [],
   "source": [
    "d4 = {'name':'Harsh','mail_id':'harshalborgude933@gmail.com','name':'Harshal'}"
   ]
  },
  {
   "cell_type": "code",
   "execution_count": 22,
   "id": "1c5adb48-9650-4b69-94ac-9b1a39eeaa78",
   "metadata": {},
   "outputs": [
    {
     "data": {
      "text/plain": [
       "'Harshal'"
      ]
     },
     "execution_count": 22,
     "metadata": {},
     "output_type": "execute_result"
    }
   ],
   "source": [
    "d4['name']"
   ]
  },
  {
   "cell_type": "code",
   "execution_count": 23,
   "id": "28eb3a4c-0e5a-47ee-b58c-d0a8c7e46f48",
   "metadata": {},
   "outputs": [],
   "source": [
    "d7 = {'company':'HarshCOmpany','course':'data science course','skills':['java','angular','python']}"
   ]
  },
  {
   "cell_type": "code",
   "execution_count": 26,
   "id": "75218186-be73-4092-bc25-6acb470ba274",
   "metadata": {},
   "outputs": [
    {
     "data": {
      "text/plain": [
       "['java', 'angular', 'python']"
      ]
     },
     "execution_count": 26,
     "metadata": {},
     "output_type": "execute_result"
    }
   ],
   "source": [
    "d7['skills']"
   ]
  },
  {
   "cell_type": "code",
   "execution_count": 29,
   "id": "c4947a39-42fe-4f91-899e-1084400b5e1a",
   "metadata": {},
   "outputs": [
    {
     "data": {
      "text/plain": [
       "'Angular'"
      ]
     },
     "execution_count": 29,
     "metadata": {},
     "output_type": "execute_result"
    }
   ],
   "source": [
    "d7['skills'][1].capitalize()"
   ]
  },
  {
   "cell_type": "code",
   "execution_count": 1,
   "id": "93ec66b0-2d71-40fe-8f37-69df52b325fa",
   "metadata": {},
   "outputs": [],
   "source": [
    "d8 = {'number':[2,33,43,78,98],'assignments':(1,2,3,4,4,2),\"Dates\":{22,21,24},\"classTime\":{'dsMaster':2,'Java':7}}"
   ]
  },
  {
   "cell_type": "code",
   "execution_count": 2,
   "id": "7c906aaf-243c-448a-80c1-ae4ce67e1d74",
   "metadata": {},
   "outputs": [
    {
     "data": {
      "text/plain": [
       "{'number': [2, 33, 43, 78, 98],\n",
       " 'assignments': (1, 2, 3, 4, 4, 2),\n",
       " 'Dates': {21, 22, 24},\n",
       " 'classTime': {'dsMaster': 2, 'Java': 7}}"
      ]
     },
     "execution_count": 2,
     "metadata": {},
     "output_type": "execute_result"
    }
   ],
   "source": [
    "d8"
   ]
  },
  {
   "cell_type": "code",
   "execution_count": 3,
   "id": "fba03a3c-4e52-4be2-90ab-eef28627d93f",
   "metadata": {},
   "outputs": [
    {
     "data": {
      "text/plain": [
       "7"
      ]
     },
     "execution_count": 3,
     "metadata": {},
     "output_type": "execute_result"
    }
   ],
   "source": [
    "d8['classTime']['Java']"
   ]
  },
  {
   "cell_type": "code",
   "execution_count": 4,
   "id": "ea023f5d-81da-4681-85a6-33e93b9a24f5",
   "metadata": {},
   "outputs": [],
   "source": [
    "d8['names']=[\"harshal1\",\"harshal2\",\"harshal3\"]"
   ]
  },
  {
   "cell_type": "code",
   "execution_count": 5,
   "id": "4fab05d7-d039-4328-a23f-e5829948579e",
   "metadata": {},
   "outputs": [
    {
     "data": {
      "text/plain": [
       "{'number': [2, 33, 43, 78, 98],\n",
       " 'assignments': (1, 2, 3, 4, 4, 2),\n",
       " 'Dates': {21, 22, 24},\n",
       " 'classTime': {'dsMaster': 2, 'Java': 7},\n",
       " 'names': ['harshal1', 'harshal2', 'harshal3']}"
      ]
     },
     "execution_count": 5,
     "metadata": {},
     "output_type": "execute_result"
    }
   ],
   "source": [
    "d8"
   ]
  },
  {
   "cell_type": "code",
   "execution_count": 6,
   "id": "52593ae0-404d-461a-9e3e-10a370d27648",
   "metadata": {},
   "outputs": [],
   "source": [
    "del d8['names']"
   ]
  },
  {
   "cell_type": "code",
   "execution_count": 7,
   "id": "aca3847c-85e7-4e2c-ab6d-7bdccac998ca",
   "metadata": {},
   "outputs": [
    {
     "data": {
      "text/plain": [
       "{'number': [2, 33, 43, 78, 98],\n",
       " 'assignments': (1, 2, 3, 4, 4, 2),\n",
       " 'Dates': {21, 22, 24},\n",
       " 'classTime': {'dsMaster': 2, 'Java': 7}}"
      ]
     },
     "execution_count": 7,
     "metadata": {},
     "output_type": "execute_result"
    }
   ],
   "source": [
    "d8"
   ]
  },
  {
   "cell_type": "code",
   "execution_count": 8,
   "id": "9c21f813-b4c6-4e3c-975e-ec8327788b8e",
   "metadata": {},
   "outputs": [
    {
     "data": {
      "text/plain": [
       "dict_keys(['number', 'assignments', 'Dates', 'classTime'])"
      ]
     },
     "execution_count": 8,
     "metadata": {},
     "output_type": "execute_result"
    }
   ],
   "source": [
    "d8.keys()"
   ]
  },
  {
   "cell_type": "code",
   "execution_count": 9,
   "id": "bbe3ab57-6bd1-4fed-b5b3-634fee171f46",
   "metadata": {},
   "outputs": [
    {
     "data": {
      "text/plain": [
       "['number', 'assignments', 'Dates', 'classTime']"
      ]
     },
     "execution_count": 9,
     "metadata": {},
     "output_type": "execute_result"
    }
   ],
   "source": [
    "list(d8.keys())"
   ]
  },
  {
   "cell_type": "code",
   "execution_count": 10,
   "id": "b6ba1eec-23f0-42e6-a3cd-e719eeb0eff5",
   "metadata": {},
   "outputs": [
    {
     "data": {
      "text/plain": [
       "[[2, 33, 43, 78, 98],\n",
       " (1, 2, 3, 4, 4, 2),\n",
       " {21, 22, 24},\n",
       " {'dsMaster': 2, 'Java': 7}]"
      ]
     },
     "execution_count": 10,
     "metadata": {},
     "output_type": "execute_result"
    }
   ],
   "source": [
    "list(d8.values())"
   ]
  },
  {
   "cell_type": "code",
   "execution_count": 11,
   "id": "c35350ef-1342-445c-9f90-0a8d149c06d1",
   "metadata": {},
   "outputs": [
    {
     "data": {
      "text/plain": [
       "[('number', [2, 33, 43, 78, 98]),\n",
       " ('assignments', (1, 2, 3, 4, 4, 2)),\n",
       " ('Dates', {21, 22, 24}),\n",
       " ('classTime', {'dsMaster': 2, 'Java': 7})]"
      ]
     },
     "execution_count": 11,
     "metadata": {},
     "output_type": "execute_result"
    }
   ],
   "source": [
    "list(d8.items())"
   ]
  },
  {
   "cell_type": "code",
   "execution_count": 12,
   "id": "c970ecbc-ea4d-4f99-aa7f-23503598b696",
   "metadata": {},
   "outputs": [
    {
     "data": {
      "text/plain": [
       "{'number': [2, 33, 43, 78, 98],\n",
       " 'assignments': (1, 2, 3, 4, 4, 2),\n",
       " 'Dates': {21, 22, 24},\n",
       " 'classTime': {'dsMaster': 2, 'Java': 7}}"
      ]
     },
     "execution_count": 12,
     "metadata": {},
     "output_type": "execute_result"
    }
   ],
   "source": [
    "d8"
   ]
  },
  {
   "cell_type": "code",
   "execution_count": 14,
   "id": "63d8897b-0249-427d-99b6-3b165823621e",
   "metadata": {},
   "outputs": [
    {
     "data": {
      "text/plain": [
       "{21, 22, 24}"
      ]
     },
     "execution_count": 14,
     "metadata": {},
     "output_type": "execute_result"
    }
   ],
   "source": [
    "d8.pop('Dates')"
   ]
  },
  {
   "cell_type": "code",
   "execution_count": 16,
   "id": "1f35214f-18c6-4e15-9ca0-2c2bf12bffd6",
   "metadata": {},
   "outputs": [
    {
     "data": {
      "text/plain": [
       "{'number': [2, 33, 43, 78, 98],\n",
       " 'assignments': (1, 2, 3, 4, 4, 2),\n",
       " 'classTime': {'dsMaster': 2, 'Java': 7}}"
      ]
     },
     "execution_count": 16,
     "metadata": {},
     "output_type": "execute_result"
    }
   ],
   "source": [
    "d8"
   ]
  },
  {
   "cell_type": "code",
   "execution_count": null,
   "id": "f01890c1-4a87-4999-b06c-437be2b6598b",
   "metadata": {},
   "outputs": [],
   "source": []
  }
 ],
 "metadata": {
  "kernelspec": {
   "display_name": "Python 3 (ipykernel)",
   "language": "python",
   "name": "python3"
  },
  "language_info": {
   "codemirror_mode": {
    "name": "ipython",
    "version": 3
   },
   "file_extension": ".py",
   "mimetype": "text/x-python",
   "name": "python",
   "nbconvert_exporter": "python",
   "pygments_lexer": "ipython3",
   "version": "3.10.8"
  }
 },
 "nbformat": 4,
 "nbformat_minor": 5
}
